{
 "cells": [
  {
   "cell_type": "markdown",
   "id": "e2930648-34c8-4d35-bf2f-cd17231f29bd",
   "metadata": {
    "collapsed": false,
    "name": "cell8"
   },
   "source": [
    "# ステップ1: S3バケットのアクセス権限の設定\n",
    "\n",
    "#### AWSアクセス制御要件\n",
    "Snowflake では、フォルダー (およびサブフォルダー) 内のファイルにアクセスできるようにするために、S3 バケットとフォルダーに対する次の権限が必要です。\n",
    "\n",
    "- `s3:GetBucketLocation`\n",
    "- `s3:GetObject`\n",
    "- `s3:GetObjectVersion`\n",
    "- `s3:ListBucket`\n",
    "`\n",
    "※追加の SQL アクションを実行するには、次の追加の権限が必要です。\n",
    "\n",
    "| 許可                | SQLアクション                                                                                                                  |\n",
    "| ----------------- | ------------------------------------------------------------------------------------------------------------------------- |\n",
    "| `s3:PutObject`    | バケットにファイルをアンロードします。                                                                                                       |\n",
    "| `s3:DeleteObject` | ロードが成功した後、ステージからファイルを自動的に削除するか、[REMOVE](https://docs.snowflake.com/en/sql-reference/sql/remove)ステートメントを実行してファイルを手動で削除します。 |\n",
    "\n",
    "\n",
    "#### IAMポリシー作成\n",
    "SnowflakeからS3 バケットを使用してデータをロードおよびアンロードできるように、AWSのIAMポリシーの作成において、以下のIAMポリシーを作成。\n",
    "\n",
    "- ポリシー名： `Snowflake_access_Capstone-hwatari-policy`\n",
    "- Jsonファイル：↓\n",
    "```\n",
    "{\n",
    "    \"Version\": \"2012-10-17\",\n",
    "    \"Statement\": [\n",
    "        {\n",
    "            \"Effect\": \"Allow\",\n",
    "            \"Action\": [\n",
    "              \"s3:PutObject\",\n",
    "              \"s3:GetObject\",\n",
    "              \"s3:GetObjectVersion\",\n",
    "              \"s3:DeleteObject\",\n",
    "              \"s3:DeleteObjectVersion\"\n",
    "            ],\n",
    "            \"Resource\": [\"arn:aws:s3:::<capstone-hwatari>/<kapa-0001>/*\",\n",
    "            \"arn:aws:s3:::<capstone-hwatari>/<kbfi-0001>/*\"]\n",
    "        },\n",
    "        {\n",
    "            \"Effect\": \"Allow\",\n",
    "            \"Action\": [\n",
    "                \"s3:ListBucket\",\n",
    "                \"s3:GetBucketLocation\"\n",
    "            ],\n",
    "            \"Resource\": \"arn:aws:s3:::<capstone-hwatari>\",\n",
    "            \"Condition\": {\n",
    "                \"StringLike\": {\n",
    "                    \"s3:prefix\": [\n",
    "                        \"<capstone-hwatari>/*\"\n",
    "                    ]\n",
    "                }\n",
    "            }\n",
    "        }\n",
    "    ]\n",
    "}\n",
    "```\n",
    "\n",
    "\n",
    "![](../image/storage-integration-s3.png)"
   ]
  },
  {
   "cell_type": "markdown",
   "id": "bc6af093-d8c6-49af-92f7-5d542d43c98a",
   "metadata": {
    "collapsed": false,
    "name": "cell9"
   },
   "source": [
    "# ステップ２：AWSでIAMロールの作成\n",
    "\n",
    "作成したポリシーをアタッチするためのAWSのロールの作成を行う。\n",
    "作成方法に関しては[ドキュメント](https://docs.snowflake.com/en/user-guide/data-load-s3-config-storage-integration)を参照、作成結果は下記の通り。\n",
    "- ロール名：`snowflakerole_capstone_hwatari`\n",
    "- 概要：↓\n",
    "\n",
    "![sample](../image/role.png)\n",
    "\n"
   ]
  },
  {
   "cell_type": "markdown",
   "id": "5415e202-9919-4308-81d4-626fb4af8e00",
   "metadata": {
    "collapsed": false,
    "name": "cell2"
   },
   "source": [
    "# ステップ3：Snowflakeでクラウドストレージ統合を作成する\n",
    "\n",
    "**`CREATE STORAGE INTEGRATION`** コマンドを使用して、SnowflakeとS3クラウドストレージ間の連携を定義するストレージ統合を作成します。\n",
    "\n",
    "### ストレージ統合とは？\n",
    "\n",
    "ストレージ統合は、以下の情報を格納するSnowflakeオブジェクトです。\n",
    "\n",
    "* **IAMユーザー:** SnowflakeがS3クラウドストレージ用に自動生成したIDおよびアクセス管理（IAM）ユーザー。\n",
    "* **ストレージロケーション:** 許可またはブロックするストレージの場所（S3バケットなど）のリスト。\n",
    "\n",
    "### 主な利点\n",
    "\n",
    "* **認証情報の省略:** クラウドプロバイダーの管理者が、Snowflakeによって生成されたIAMユーザーにストレージロケーションへのアクセス許可を付与します。これにより、ユーザーはステージ作成時やデータロード時に認証情報（APIキーなど）を提供する手間を省けます。\n",
    "* **複数ステージのサポート:** 単一のストレージ統合で、複数の外部（S3）ステージをサポートできます。ただし、各ステージ定義のURLは、統合の **`STORAGE_ALLOWED_LOCATIONS`** パラメーターで指定されたS3バケット（およびオプションのパス）と一致している必要があります。\n",
    "\n",
    "> **注釈**\n",
    ">\n",
    "> このSQLコマンドを実行できるのは、アカウント管理者（**`ACCOUNTADMIN`** ロールを持つユーザー）またはグローバル **`CREATE INTEGRATION`** 権限を持つロールのみです。"
   ]
  },
  {
   "cell_type": "code",
   "execution_count": null,
   "id": "06eb4989-ddf7-4081-9262-0a451d958a84",
   "metadata": {
    "language": "sql",
    "name": "cell1"
   },
   "outputs": [],
   "source": [
    "CREATE STORAGE INTEGRATION capstone_s3_integration\n",
    "  TYPE = EXTERNAL_STAGE\n",
    "  STORAGE_PROVIDER = 'S3'\n",
    "  ENABLED = TRUE\n",
    "  STORAGE_AWS_ROLE_ARN = 'arn:aws:iam::021891591907:role/snowflakerole_capstone_hwatari'\n",
    "  STORAGE_ALLOWED_LOCATIONS = ('s3://capstone-hwatari/')"
   ]
  },
  {
   "cell_type": "markdown",
   "id": "c485e452-9722-4b23-9ee7-d42a5f01efff",
   "metadata": {
    "collapsed": false,
    "name": "cell3"
   },
   "source": [
    "# ステップ4：Snowflakeアカウントの AWS IAM ユーザーを取得する\n",
    "Snowflakeアカウント用に自動的に作成された IAM ユーザーの ARN を取得するには、 DESCRIBE INTEGRATION を使用します。"
   ]
  },
  {
   "cell_type": "code",
   "execution_count": null,
   "id": "edae69a7-7b3a-4ef8-8a02-0a22c38702ed",
   "metadata": {
    "language": "sql",
    "name": "cell4"
   },
   "outputs": [],
   "source": [
    "DESC INTEGRATION capstone_s3_integration;"
   ]
  },
  {
   "cell_type": "markdown",
   "id": "37f0dbca-69ff-4675-97fb-dd50c72b9e27",
   "metadata": {
    "collapsed": false,
    "name": "cell5"
   },
   "source": [
    "## ステップ5：バケットオブジェクトにアクセスするために IAM ユーザー権限を付与する\n",
    "\n",
    "次の手順では、S3バケットを使用してデータをロードおよびアンロードできるように、 AWS 管理コンソールでSnowflakeの IAM アクセス許可を構成する方法を説明します。\n",
    "\n",
    "1.  AWS 管理コンソールにログインします。\n",
    "2.  `IAM` を選択します。\n",
    "3.  左側のナビゲーションペインから `Roles` を選択します。\n",
    "4.  「ステップ2: IAM AWS ロールを作成する」で作成したロールを選択します。\n",
    "5.  `Trust relationships` タブを選択します。\n",
    "6.  `Edit trust policy` を選択します。\n",
    "7.  「ステップ4：Snowflakeアカウントの AWS IAM ユーザーを取得する」で記録した `DESC STORAGE INTEGRATION` の出力値でポリシードキュメントを変更します。\n",
    "\n",
    "### IAM ロールのポリシードキュメント\n",
    "\n",
    "```\n",
    "{\n",
    "    \"Version\": \"2012-10-17\",\n",
    "    \"Statement\": [\n",
    "        {\n",
    "            \"Effect\": \"Allow\",\n",
    "            \"Principal\": {\n",
    "                \"AWS\": \"arn:aws:iam::392051336358:user/3r201000-s\"\n",
    "            },\n",
    "            \"Action\": \"sts:AssumeRole\",\n",
    "            \"Condition\": {\n",
    "                \"StringEquals\": {\n",
    "                    \"sts:ExternalId\": \"HU05376_SFCRole=7_DytmO8J69SwIm2voPNaSYCrPRR4=\"\n",
    "                }\n",
    "            }\n",
    "        }\n",
    "    ]\n",
    "}\n",
    "```"
   ]
  },
  {
   "cell_type": "markdown",
   "id": "7d204265-a8ac-4401-894e-630b308bf527",
   "metadata": {
    "collapsed": false,
    "name": "cell6"
   },
   "source": [
    "# ステップ6: 外部ステージを作成する¶\n",
    "ステップ3：Snowflakeでクラウドストレージ統合を作成する （このトピック内）で作成したストレージ統合を参照する、外部（つまり、S3）ステージを作成します。"
   ]
  },
  {
   "cell_type": "code",
   "execution_count": null,
   "id": "9d5821f2-3941-44b7-9613-8d5965063148",
   "metadata": {
    "language": "sql",
    "name": "cell7"
   },
   "outputs": [],
   "source": [
    "USE SCHEMA capstone.public;\n",
    "\n",
    "CREATE or replace STAGE capstone_s3_stage\n",
    "  STORAGE_INTEGRATION = capstone_s3_integration\n",
    "  URL = 's3://capstone-hwatari//'"
   ]
  }
 ],
 "metadata": {
  "language_info": {
   "name": "python"
  },
  "lastEditStatus": {
   "authorEmail": "hiroki.watari@snowflake.com",
   "authorId": "6440475291858",
   "authorName": "HWATARI",
   "lastEditTime": 1754532453540,
   "notebookId": "mfpz6tgugocogp6oi7p2",
   "sessionId": "b6ccfb0d-607c-4ecb-b68b-f16c2b8ed49a"
  }
 },
 "nbformat": 4,
 "nbformat_minor": 5
}
