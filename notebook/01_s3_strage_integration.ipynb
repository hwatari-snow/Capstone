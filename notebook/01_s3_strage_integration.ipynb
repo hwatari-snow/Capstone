{
 "metadata": {
  "language_info": {
   "name": "python"
  },
  "lastEditStatus": {
   "notebookId": "uoaxt5dwhoaf5dodrfnk",
   "authorId": "6440475291858",
   "authorName": "HWATARI",
   "authorEmail": "hiroki.watari@snowflake.com",
   "sessionId": "06b23c1f-6633-4ab8-abdc-edecd5524266",
   "lastEditTime": 1754307871526
  }
 },
 "nbformat_minor": 5,
 "nbformat": 4,
 "cells": [
  {
   "cell_type": "markdown",
   "id": "5415e202-9919-4308-81d4-626fb4af8e00",
   "metadata": {
    "name": "cell2",
    "collapsed": false
   },
   "source": "# ステップ3：Snowflakeでクラウドストレージ統合を作成する\n\n**`CREATE STORAGE INTEGRATION`** コマンドを使用して、SnowflakeとS3クラウドストレージ間の連携を定義するストレージ統合を作成します。\n\n### ストレージ統合とは？\n\nストレージ統合は、以下の情報を格納するSnowflakeオブジェクトです。\n\n* **IAMユーザー:** SnowflakeがS3クラウドストレージ用に自動生成したIDおよびアクセス管理（IAM）ユーザー。\n* **ストレージロケーション:** 許可またはブロックするストレージの場所（S3バケットなど）のリスト。\n\n### 主な利点\n\n* **認証情報の省略:** クラウドプロバイダーの管理者が、Snowflakeによって生成されたIAMユーザーにストレージロケーションへのアクセス許可を付与します。これにより、ユーザーはステージ作成時やデータロード時に認証情報（APIキーなど）を提供する手間を省けます。\n* **複数ステージのサポート:** 単一のストレージ統合で、複数の外部（S3）ステージをサポートできます。ただし、各ステージ定義のURLは、統合の **`STORAGE_ALLOWED_LOCATIONS`** パラメーターで指定されたS3バケット（およびオプションのパス）と一致している必要があります。\n\n> **注釈**\n>\n> このSQLコマンドを実行できるのは、アカウント管理者（**`ACCOUNTADMIN`** ロールを持つユーザー）またはグローバル **`CREATE INTEGRATION`** 権限を持つロールのみです。"
  },
  {
   "cell_type": "code",
   "execution_count": null,
   "id": "06eb4989-ddf7-4081-9262-0a451d958a84",
   "metadata": {
    "name": "cell1",
    "language": "sql"
   },
   "outputs": [],
   "source": "CREATE STORAGE INTEGRATION capstone_s3_integration\n  TYPE = EXTERNAL_STAGE\n  STORAGE_PROVIDER = 'S3'\n  ENABLED = TRUE\n  STORAGE_AWS_ROLE_ARN = 'arn:aws:iam::021891591907:role/snowflakerole_capstone_hwatari'\n  STORAGE_ALLOWED_LOCATIONS = ('s3://capstone-hwatari/')"
  },
  {
   "cell_type": "markdown",
   "id": "c485e452-9722-4b23-9ee7-d42a5f01efff",
   "metadata": {
    "name": "cell3",
    "collapsed": false
   },
   "source": "# ステップ4：Snowflakeアカウントの AWS IAM ユーザーを取得する\nSnowflakeアカウント用に自動的に作成された IAM ユーザーの ARN を取得するには、 DESCRIBE INTEGRATION を使用します。"
  },
  {
   "cell_type": "code",
   "id": "edae69a7-7b3a-4ef8-8a02-0a22c38702ed",
   "metadata": {
    "language": "sql",
    "name": "cell4"
   },
   "outputs": [],
   "source": "DESC INTEGRATION capstone_s3_integration;",
   "execution_count": null
  },
  {
   "cell_type": "markdown",
   "id": "37f0dbca-69ff-4675-97fb-dd50c72b9e27",
   "metadata": {
    "name": "cell5",
    "collapsed": false
   },
   "source": "## ステップ5：バケットオブジェクトにアクセスするために IAM ユーザー権限を付与する\n\n次の手順では、S3バケットを使用してデータをロードおよびアンロードできるように、 AWS 管理コンソールでSnowflakeの IAM アクセス許可を構成する方法を説明します。\n\n1.  AWS 管理コンソールにログインします。\n2.  `IAM` を選択します。\n3.  左側のナビゲーションペインから `Roles` を選択します。\n4.  「ステップ2: IAM AWS ロールを作成する」で作成したロールを選択します。\n5.  `Trust relationships` タブを選択します。\n6.  `Edit trust policy` を選択します。\n7.  「ステップ4：Snowflakeアカウントの AWS IAM ユーザーを取得する」で記録した `DESC STORAGE INTEGRATION` の出力値でポリシードキュメントを変更します。\n\n### IAM ロールのポリシードキュメント\n\n```\n{\n    \"Version\": \"2012-10-17\",\n    \"Statement\": [\n        {\n            \"Effect\": \"Allow\",\n            \"Principal\": {\n                \"AWS\": \"arn:aws:iam::392051336358:user/3r201000-s\"\n            },\n            \"Action\": \"sts:AssumeRole\",\n            \"Condition\": {\n                \"StringEquals\": {\n                    \"sts:ExternalId\": \"HU05376_SFCRole=7_DytmO8J69SwIm2voPNaSYCrPRR4=\"\n                }\n            }\n        }\n    ]\n}\n```"
  },
  {
   "cell_type": "markdown",
   "id": "7d204265-a8ac-4401-894e-630b308bf527",
   "metadata": {
    "name": "cell6",
    "collapsed": false
   },
   "source": "# ステップ6: 外部ステージを作成する¶\nステップ3：Snowflakeでクラウドストレージ統合を作成する （このトピック内）で作成したストレージ統合を参照する、外部（つまり、S3）ステージを作成します。"
  },
  {
   "cell_type": "code",
   "id": "9d5821f2-3941-44b7-9613-8d5965063148",
   "metadata": {
    "language": "sql",
    "name": "cell7"
   },
   "outputs": [],
   "source": "USE SCHEMA capstone.public;\n\nCREATE or replace STAGE capstone_s3_stage\n  STORAGE_INTEGRATION = capstone_s3_integration\n  URL = 's3://capstone-hwatari//'",
   "execution_count": null
  }
 ]
}