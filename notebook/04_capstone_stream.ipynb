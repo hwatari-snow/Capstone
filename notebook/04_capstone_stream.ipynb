{
 "cells": [
  {
   "cell_type": "markdown",
   "id": "ce110000-1111-2222-3333-ffffff000000",
   "metadata": {
    "name": "cell1"
   },
   "source": [
    "# Capstone ファイルストリーム設定\n",
    "\n",
    "このノートブックは、S3バケットへのファイルストリーミングを設定するためのSQLクエリを含んでいます。`setup_capstone_file_stream.sql`の処理をステップごとに実行し、解説を加えます。"
   ]
  },
  {
   "cell_type": "markdown",
   "id": "ce110000-1111-2222-3333-ffffff000001",
   "metadata": {
    "name": "cell2"
   },
   "source": [
    "## 1. コンテキストの設定\n",
    "\n",
    "まず、使用するロール、ウェアハウス、データベース、スキーマを設定します。ご自身の環境に合わせて値を変更してください。"
   ]
  },
  {
   "cell_type": "code",
   "execution_count": null,
   "id": "ce110000-1111-2222-3333-ffffff000002",
   "metadata": {
    "language": "sql",
    "name": "cell3"
   },
   "outputs": [],
   "source": [
    "use role sysadmin;  -- replace with your role\n",
    "use warehouse compute_wh_xl;  -- replace with your warehouse\n",
    "use database capstone; -- replace with your database\n",
    "use schema capstone.public;  -- replace with your schema"
   ]
  },
  {
   "cell_type": "markdown",
   "id": "ce110000-1111-2222-3333-ffffff000003",
   "metadata": {
    "collapsed": false,
    "name": "cell4"
   },
   "source": [
    "## 2. ストアドプロシージャの作成\n",
    "\n",
    "データストリーミングに必要な2つのストアドプロシージャを作成します。"
   ]
  },
  {
   "cell_type": "markdown",
   "id": "ce110000-1111-2222-3333-ffffff000004",
   "metadata": {
    "name": "cell5"
   },
   "source": [
    "### 2.1. `CHECK_S3_WRITE` ストアドプロシージャ\n",
    "\n",
    "このプロシージャは、指定されたS3バケットにファイルを書き込むことができるかテストするために使用します。"
   ]
  },
  {
   "cell_type": "code",
   "execution_count": null,
   "id": "ce110000-1111-2222-3333-ffffff000005",
   "metadata": {
    "language": "sql",
    "name": "cell6"
   },
   "outputs": [],
   "source": [
    "create or replace procedure check_s3_write \n",
    "(v_kapa_offset integer, v_raw_table varchar, v_stage varchar, v_json_ff varchar, v_json_data varchar)\n",
    "returns varchar(2000)\n",
    "language sql\n",
    "as\n",
    "$$\n",
    "declare\n",
    "  dynamic_query varchar(2000);\n",
    "  error_message varchar(2000);\n",
    "--   kapa_offset number;\n",
    "begin\n",
    "  dynamic_query :=   \n",
    "  'COPY INTO @'||v_stage||'/kapa-stream/ '||\n",
    "  'FROM ('||\n",
    "  'SELECT distinct OBJECT_CONSTRUCT_KEEP_NULL('||\n",
    "  '''gs'', '||v_json_data||':\"gs\"::STRING '||  \n",
    "  ', ''heading'', '||v_json_data||':\"heading\"::STRING'||\n",
    "  ', ''baro_alt'', '||v_json_data||':\"baro_alt\"::STRING'||\n",
    "  ', ''squawk'', '||v_json_data||':\"squawk\"::STRING'||\n",
    "  ', ''alt'', '||v_json_data||':\"alt\"::STRING'||\n",
    "  ', ''lon'', '||v_json_data||':\"lon\"::STRING'||\n",
    "  ', ''facility_name'', '||v_json_data||':\"facility_name\"::STRING'||\n",
    "  ', ''gps_alt'', '||v_json_data||':\"gps_alt\"::STRING'||\n",
    "  ', ''pitr'', '||v_json_data||':\"pitr\"::STRING'||\n",
    "  ', ''id'', '||v_json_data||':\"id\"::STRING'||\n",
    "  ', ''hexid'', '||v_json_data||':\"hexid\"::STRING'||\n",
    "  ', ''facility_hash'', '||v_json_data||':\"facility_hash\"::STRING'||\n",
    "  ', ''ident'', '||v_json_data||':\"ident\"::STRING'||\n",
    "  ', ''lat'', '||v_json_data||':\"lat\"::STRING'||\n",
    "  ', ''type'', '||v_json_data||':\"type\"::STRING'||\n",
    "  ', ''updateType'', '||v_json_data||':\"updateType\"::STRING'||\n",
    "  ', ''air_ground'', '||v_json_data||':\"air_ground\"::STRING'||\n",
    "  ', ''clock'', '||v_json_data||':\"clock\"::number+'||to_char(v_kapa_offset+28500)||\n",
    "  ') AS flight_obj '||\n",
    "  'FROM '||v_raw_table||\n",
    "  ' where '||v_json_data||':clock::timestamp between timestampadd(''SECONDS'', '||to_char(-v_kapa_offset)||', current_timestamp())'||\n",
    "  'and timestampadd(''SECONDS'', '||to_char(-v_kapa_offset+300)||', current_timestamp()))'||\n",
    "  'PARTITION BY ( ''year=''|| date_part(''YEAR'', flight_obj:clock::timestamp)||''/month=''|| lpad(date_part(''MONTH'',flight_obj:clock::timestamp), ''2'', ''0'')||''/day=''|| lpad(date_part(''DAY'',flight_obj:clock::timestamp), ''2'', ''0'')) FILE_FORMAT = '''||v_json_ff||''';';\n",
    "\n",
    "  begin\n",
    "    execute immediate :dynamic_query;\n",
    "    return 'COPY command executed successfully. Check your bucket for the file.';\n",
    "  exception\n",
    "    WHEN OTHER THEN\n",
    "      -- If an exception occurs, capture the error message\n",
    "      error_message := SQLERRM;\n",
    "      RETURN 'Error executing query: ' || error_message;\n",
    "  end\n",
    "  ;\n",
    "  -- return dynamic_query;\n",
    "end;\n",
    "$$\n",
    ";\n"
   ]
  },
  {
   "cell_type": "markdown",
   "id": "ce110000-1111-2222-3333-ffffff000006",
   "metadata": {
    "collapsed": false,
    "name": "cell7"
   },
   "source": [
    "### 2.2. `CREATE_STREAM_TASK` ストアドプロシージャ\n",
    "\n",
    "このプロシージャは、5〜6分ごとにS3バケットにファイルをストリーミングするタスクを作成します。"
   ]
  },
  {
   "cell_type": "code",
   "execution_count": null,
   "id": "ce110000-1111-2222-3333-ffffff000007",
   "metadata": {
    "language": "sql",
    "name": "cell8"
   },
   "outputs": [],
   "source": [
    "create or replace procedure create_stream_task \n",
    "(v_db_schema varchar, v_raw_table varchar, v_kapa_offset number, v_stage varchar, v_json_ff varchar, v_json_data varchar)\n",
    "returns varchar(2000)\n",
    "language sql\n",
    "as\n",
    "$$\n",
    "declare\n",
    "  dynamic_query varchar(2000);\n",
    "  error_message varchar(2000);\n",
    "begin\n",
    "  dynamic_query := \n",
    "  'create or replace task '||v_db_schema||'.publish_kapa_adsb_data '||\n",
    "  'SCHEDULE = ''6 MINUTES'' '||\n",
    "  'USER_TASK_MANAGED_INITIAL_WAREHOUSE_SIZE = ''XSMALL'' '||\n",
    "  'as '||\n",
    "  'COPY INTO @'||v_stage||'/kapa-stream/ '||\n",
    "  'FROM ('||\n",
    "  'SELECT distinct OBJECT_CONSTRUCT_KEEP_NULL('||\n",
    "  '''gs'', '||v_json_data||':\"gs\"::STRING '||  \n",
    "  ', ''heading'', '||v_json_data||':\"heading\"::STRING'||\n",
    "  ', ''baro_alt'', '||v_json_data||':\"baro_alt\"::STRING'||\n",
    "  ', ''squawk'', '||v_json_data||':\"squawk\"::STRING'||\n",
    "  ', ''alt'', '||v_json_data||':\"alt\"::STRING'||\n",
    "  ', ''lon'', '||v_json_data||':\"lon\"::STRING'||\n",
    "  ', ''facility_name'', '||v_json_data||':\"facility_name\"::STRING'||\n",
    "  ', ''gps_alt'', '||v_json_data||':\"gps_alt\"::STRING'||\n",
    "  ', ''pitr'', '||v_json_data||':\"pitr\"::STRING'||\n",
    "  ', ''id'', '||v_json_data||':\"id\"::STRING'||\n",
    "  ', ''hexid'', '||v_json_data||':\"hexid\"::STRING'||\n",
    "  ', ''facility_hash'', '||v_json_data||':\"facility_hash\"::STRING'||\n",
    "  ', ''ident'', '||v_json_data||':\"ident\"::STRING'||\n",
    "  ', ''lat'', '||v_json_data||':\"lat\"::STRING'||\n",
    "  ', ''type'', '||v_json_data||':\"type\"::STRING'||\n",
    "  ', ''updateType'', '||v_json_data||':\"updateType\"::STRING'||\n",
    "  ', ''air_ground'', '||v_json_data||':\"air_ground\"::STRING'||\n",
    "  ', ''clock'', '||v_json_data||':\"clock\"::number+'||to_char(v_kapa_offset+28500)||\n",
    "  ') AS flight_obj '||\n",
    "  'FROM '||v_raw_table||\n",
    "  ' where '||v_json_data||':clock::timestamp between timestampadd(''SECONDS'', '||to_char(-v_kapa_offset)||', current_timestamp())'||\n",
    "  'and timestampadd(''SECONDS'', '||to_char(-v_kapa_offset+300)||', current_timestamp()))'||\n",
    "  'PARTITION BY ( ''year=''|| date_part(''YEAR'', flight_obj:clock::timestamp)||''/month=''|| lpad(date_part(''MONTH'',flight_obj:clock::timestamp), ''2'', ''0'')||''/day=''|| lpad(date_part(''DAY'',flight_obj:clock::timestamp), ''2'', ''0'')) FILE_FORMAT = '''||v_json_ff||''';';\n",
    "\n",
    "  begin\n",
    "    execute immediate :dynamic_query;\n",
    "    return 'CREATE TASK command executed successfully. Remember to Resume the Task and check status.';\n",
    "  exception\n",
    "    WHEN OTHER THEN\n",
    "      error_message := SQLERRM;\n",
    "      RETURN 'Error executing query: ' || error_message;\n",
    "  end;\n",
    "end;\n",
    "$$;"
   ]
  },
  {
   "cell_type": "markdown",
   "id": "ce110000-1111-2222-3333-ffffff000008",
   "metadata": {
    "collapsed": false,
    "name": "cell9"
   },
   "source": [
    "## 3. SQL変数の設定\n",
    "\n",
    "ワークシートで使用するSQL変数を設定します。ご自身の環境に合わせて値を変更してください。"
   ]
  },
  {
   "cell_type": "code",
   "execution_count": null,
   "id": "ce110000-1111-2222-3333-ffffff000009",
   "metadata": {
    "language": "sql",
    "name": "cell10"
   },
   "outputs": [],
   "source": [
    "set my_db_schema = 'capstone.public';  -- your capstone database and schema\n",
    "set my_raw_table = 'capstone.public.kapa_raw';  -- fully qualified name of the table where your raw kapa data resides\n",
    "set my_stage = 'CAPSTONE.PUBLIC.CAPSTONE_S3_STAGE';  -- fully qualified name of the external stage to your bucket\n",
    "set my_json_data = 'v';  -- name of the variant column in your raw table that holds the kapa json data \n",
    "set my_json_ff = 'capstone.public.my_json_ff';  -- fully qualified name of your JSON file format\n",
    "set kapa_offset = 0; -- kapa offset for resetting replay date"
   ]
  },
  {
   "cell_type": "markdown",
   "id": "ce110000-1111-2222-3333-ffffff000010",
   "metadata": {
    "collapsed": false,
    "name": "cell11"
   },
   "source": [
    "## 4. Kapaオフセット値の取得と設定\n",
    "\n",
    "ストリーミングされるファイルは、バケットに既に存在する過去のKAPAファイルのリプレイです。このコードは、raw KAPAテーブルが既に作成され、生データがコピーされていることを前提としています。2022年5月13日からファイルのリプレイを開始し、KAPA_OFFSET変数を使用して、ファイルのリプレイをその時点に戻します。"
   ]
  },
  {
   "cell_type": "code",
   "execution_count": null,
   "id": "ce110000-1111-2222-3333-ffffff000011",
   "metadata": {
    "language": "sql",
    "name": "cell12"
   },
   "outputs": [],
   "source": [
    "-- Get the time difference between today and 13-May-2022.  You will\n",
    "-- use this number as the time offset to start replaying files from that time.\n",
    "-- Make the following changes to the sql below:\n",
    "--   \"v\" = column name of the json variant column in your KAPA_RAW table\n",
    "--   \"kapa_raw\" = the name of your raw kapa table\n",
    "--   \"file_name\" = the name of the column that contains the File Name \n",
    "select timediff('SECONDS', min(v:clock::timestamp), current_timestamp())\n",
    "from kapa_raw\n",
    "where file_name = 'kapa-0001/year=2022/month=05/day=13/kapa-0001+0+0000017717.json.gz';"
   ]
  },
  {
   "cell_type": "markdown",
   "id": "ce110000-1111-2222-3333-ffffff000012",
   "metadata": {
    "name": "cell13"
   },
   "source": [
    "上記のクエリから得られた値をコピーして、以下の`kapa_offset`変数に貼り付けて実行してください。"
   ]
  },
  {
   "cell_type": "code",
   "execution_count": null,
   "id": "ce110000-1111-2222-3333-ffffff000013",
   "metadata": {
    "language": "sql",
    "name": "cell14"
   },
   "outputs": [],
   "source": [
    "set kapa_offset = 96990315; -- Paste the value from the query above"
   ]
  },
  {
   "cell_type": "markdown",
   "id": "ce110000-1111-2222-3333-ffffff000014",
   "metadata": {
    "name": "cell15"
   },
   "source": [
    "## 5. S3書き込みテストの実行\n",
    "\n",
    "`CHECK_S3_WRITE`プロシージャを実行して、ファイルを書き込めるかテストします。\n",
    "\n",
    "プロシージャが正常に実行されると、バケット内の `kapa-streams` フォルダに、`kapa-0001` と同じ `year/month/day` のフォルダ構造でファイルが作成されます。テストで作成されたファイルは、次のステップに進む前に削除してください。"
   ]
  },
  {
   "cell_type": "code",
   "execution_count": null,
   "id": "ce110000-1111-2222-3333-ffffff000015",
   "metadata": {
    "language": "sql",
    "name": "cell16"
   },
   "outputs": [],
   "source": [
    "call check_s3_write\n",
    "(\n",
    "  $kapa_offset,\n",
    "  $my_raw_table,\n",
    "  $my_stage,\n",
    "  $my_json_ff,\n",
    "  $my_json_data\n",
    ");"
   ]
  },
  {
   "cell_type": "markdown",
   "id": "ce110000-1111-2222-3333-ffffff000016",
   "metadata": {
    "collapsed": false,
    "name": "cell17"
   },
   "source": [
    "## 6. ストリームタスクの作成\n",
    "\n",
    "`CREATE_STREAM_TASK`プロシージャを実行して、ストリームタスクを作成します。\n",
    "\n",
    "これを実行する前に、ご自身のロールに `EXECUTE MANAGED STREAM` と `EXECUTE STREAM` の権限があることを確認してください。正常に実行されると、6分ごとにバケットに新しいファイルを作成するタスクができます。"
   ]
  },
  {
   "cell_type": "code",
   "execution_count": null,
   "id": "ce110000-1111-2222-3333-ffffff000017",
   "metadata": {
    "language": "sql",
    "name": "cell18"
   },
   "outputs": [],
   "source": [
    "call create_stream_task\n",
    "(\n",
    "  $my_db_schema,\n",
    "  $my_raw_table, \n",
    "  $kapa_offset, \n",
    "  $my_stage, \n",
    "  $my_json_ff,\n",
    "  $my_json_data\n",
    ");"
   ]
  },
  {
   "cell_type": "markdown",
   "id": "ce110000-1111-2222-3333-ffffff000018",
   "metadata": {
    "collapsed": false,
    "name": "cell19"
   },
   "source": [
    "## 7. タスクの管理\n",
    "\n",
    "作成後のタスクを管理するには、以下のコマンドを使用します。"
   ]
  },
  {
   "cell_type": "markdown",
   "id": "ce110000-1111-2222-3333-ffffff000019",
   "metadata": {
    "name": "cell20"
   },
   "source": [
    "### タスクの状態確認\n",
    "\n",
    "タスクは作成後に一時停止状態になります。`show` または `desc` コマンドを使用して、タスクの状態を確認します（`suspended`になっているはずです）。"
   ]
  },
  {
   "cell_type": "code",
   "execution_count": null,
   "id": "ce110000-1111-2222-3333-ffffff000020",
   "metadata": {
    "language": "sql",
    "name": "cell21"
   },
   "outputs": [],
   "source": [
    "show tasks like 'publish_kapa_adsb_data';\n",
    "desc task publish_kapa_adsb_data;"
   ]
  },
  {
   "cell_type": "markdown",
   "id": "ce110000-1111-2222-3333-ffffff000021",
   "metadata": {
    "name": "cell22"
   },
   "source": [
    "### タスクの再開と一時停止\n",
    "\n",
    "`alter task`コマンドを使用して、タスクを再開および一時停止します。"
   ]
  },
  {
   "cell_type": "code",
   "execution_count": null,
   "id": "ce110000-1111-2222-3333-ffffff000022",
   "metadata": {
    "language": "sql",
    "name": "cell23"
   },
   "outputs": [],
   "source": [
    "alter task publish_kapa_adsb_data resume;\n",
    "alter task publish_kapa_adsb_data suspend;"
   ]
  },
  {
   "cell_type": "markdown",
   "id": "ce110000-1111-2222-3333-ffffff000023",
   "metadata": {
    "collapsed": false,
    "name": "cell24"
   },
   "source": [
    "### 次回実行までの時間確認\n",
    "\n",
    "次のタスクが実行されるまでの時間を確認するには、このSQLを実行します。"
   ]
  },
  {
   "cell_type": "code",
   "execution_count": null,
   "id": "ce110000-1111-2222-3333-ffffff000024",
   "metadata": {
    "language": "sql",
    "name": "cell25"
   },
   "outputs": [],
   "source": [
    "select timestampdiff(second, current_timestamp, scheduled_time) next_run, scheduled_time, name, state\n",
    "from table(information_schema.task_history())\n",
    "where state = 'SCHEDULED' \n",
    "and name in ('PUBLISH_KAPA_ADSB_DATA')\n",
    "order by completed_time desc;"
   ]
  },
  {
   "cell_type": "markdown",
   "id": "ce110000-1111-2222-3333-ffffff000025",
   "metadata": {
    "collapsed": false,
    "name": "cell26"
   },
   "source": [
    "### タスク履歴の確認\n",
    "\n",
    "このクエリは、タスクに関するすべての情報を提供します。"
   ]
  },
  {
   "cell_type": "code",
   "execution_count": null,
   "id": "ce110000-1111-2222-3333-ffffff000026",
   "metadata": {
    "language": "sql",
    "name": "cell27"
   },
   "outputs": [],
   "source": [
    "select name, state, error_code, error_message, scheduled_time, query_start_time, \n",
    "next_scheduled_time, completed_time\n",
    "from table(information_schema.task_history())\n",
    "where name in ('PUBLISH_KAPA_ADSB_DATA')\n",
    "-- order by completed_time desc;"
   ]
  },
  {
   "cell_type": "markdown",
   "id": "ce110000-1111-2222-3333-ffffff000027",
   "metadata": {
    "collapsed": false,
    "name": "cell28"
   },
   "source": [
    "### サーバーレスタスクのコピー履歴確認"
   ]
  },
  {
   "cell_type": "code",
   "execution_count": null,
   "id": "ce110000-1111-2222-3333-ffffff000028",
   "metadata": {
    "language": "sql",
    "name": "cell29"
   },
   "outputs": [],
   "source": [
    "select *\n",
    "  from table(information_schema.serverless_task_history(\n",
    "    date_range_start=>dateadd(D, -7, current_date),\n",
    "    date_range_end=>current_date,\n",
    "    task_name=>'PUBLISH_KAPA_ADSB_DATA'));"
   ]
  },
  {
   "cell_type": "markdown",
   "metadata": {},
   "source": [
    "---------"
   ]
  },
  {
   "cell_type": "markdown",
   "metadata": {},
   "source": [
    "# Capstone ファイルストリーム管理\n",
    "\n",
    "このノートブックは、作成済みのファイルストリーミングタスクを管理およびリセットするためのSQLクエリを含んでいます。`manage_capstone_file_stream.sql`の処理をステップごとに実行し、解説を加えます。"
   ]
  },
  {
   "cell_type": "markdown",
   "metadata": {},
   "source": [
    "## 1. コンテキストの設定\n",
    "\n",
    "まず、使用するロール、ウェアハウス、データベース、スキーマを設定します。ご自身の環境に合わせて値を変更してください。"
   ]
  },
  {
   "cell_type": "code",
   "execution_count": null,
   "metadata": {},
   "outputs": [],
   "source": [
    "use role capstone26_role;  -- replace with your role\n",
    "use warehouse cap26_wh ;  -- replace with your warehouse\n",
    "use database capstone26_db; -- replace with your database\n",
    "use schema capstone26_db.prod;  -- replace with your schema"
   ]
  },
  {
   "cell_type": "markdown",
   "metadata": {},
   "source": [
    "## 2. タスクの管理\n",
    "\n",
    "作成後のタスクを管理するには、以下のコマンドを使用します。"
   ]
  },
  {
   "cell_type": "markdown",
   "metadata": {},
   "source": [
    "### 2.1. タスクの状態確認\n",
    "\n",
    "タスクは作成後に一時停止状態になります。`show` または `desc` コマンドを使用して、タスクの状態を確認します（`suspended`になっているはずです）。"
   ]
  },
  {
   "cell_type": "code",
   "execution_count": null,
   "id": "cac67da2-1cc3-4458-a918-aeaba427dbd9",
   "metadata": {
    "language": "sql",
    "name": "cell30"
   },
   "outputs": [],
   "source": [
    "show tasks like 'publish_kapa_adsb_data';\n",
    "desc task publish_kapa_adsb_data;"
   ]
  },
  {
   "cell_type": "markdown",
   "metadata": {},
   "source": [
    "### 2.2. タスクの再開と一時停止\n",
    "\n",
    "`alter task`コマンドを使用して、タスクを再開および一時停止します。"
   ]
  },
  {
   "cell_type": "code",
   "execution_count": null,
   "metadata": {},
   "outputs": [],
   "source": [
    "alter task publish_kapa_adsb_data resume;\n",
    "alter task publish_kapa_adsb_data suspend;"
   ]
  },
  {
   "cell_type": "markdown",
   "metadata": {},
   "source": [
    "### 2.3. 次回実行までの時間確認\n",
    "\n",
    "次のタスクが実行されるまでの時間を確認するには、このSQLを実行します。"
   ]
  },
  {
   "cell_type": "code",
   "execution_count": null,
   "metadata": {},
   "outputs": [],
   "source": [
    "select timestampdiff(second, current_timestamp, scheduled_time) next_run, scheduled_time, name, state\n",
    "from table(information_schema.task_history())\n",
    "where state = 'SCHEDULED' \n",
    "and name in ('PUBLISH_KAPA_ADSB_DATA')\n",
    "order by completed_time desc;"
   ]
  },
  {
   "cell_type": "markdown",
   "metadata": {},
   "source": [
    "select timestampdiff(second, current_timestamp, scheduled_time) next_run, scheduled_time, name, state\n",
    "from table(information_schema.task_history())\n",
    "where state = 'SCHEDULED' \n",
    "and name in ('PUBLISH_KAPA_ADSB_DATA')\n",
    "order by completed_time desc;"
   ]
  },
  {
   "cell_type": "markdown",
   "metadata": {},
   "source": [
    "### 2.4. タスク履歴の確認\n",
    "\n",
    "このクエリは、タスクに関するすべての情報を提供します。"
   ]
  },
  {
   "cell_type": "code",
   "execution_count": null,
   "metadata": {},
   "outputs": [],
   "source": [
    "select name, state, error_code, error_message, scheduled_time, query_start_time, \n",
    "next_scheduled_time, completed_time\n",
    "from table(information_schema.task_history())\n",
    "where name in ('PUBLISH_KAPA_ADSB_DATA')\n",
    "-- order by completed_time desc\n",
    ";"
   ]
  },
  {
   "cell_type": "markdown",
   "metadata": {},
   "source": [
    "### 2.5. サーバーレスタスクのコピー履歴確認"
   ]
  },
  {
   "cell_type": "code",
   "execution_count": null,
   "metadata": {},
   "outputs": [],
   "source": [
    "select *\n",
    "  from table(information_schema.serverless_task_history(\n",
    "    date_range_start=>dateadd(D, -7, current_date),\n",
    "    date_range_end=>current_date,\n",
    "    task_name=>'PUBLISH_KAPA_ADSB_DATA'));"
   ]
  },
  {
   "cell_type": "markdown",
   "metadata": {},
   "source": [
    "## 3. ファイルストリームのリセット\n",
    "\n",
    "リセットするには、次の手順を実行します:\n",
    "1. タスクを一時停止して削除します。\n",
    "2. Snowpipeを一時停止します。\n",
    "3. `kapa-stage-raw` テーブルからレコードを削除します。"
   ]
  },
  {
   "cell_type": "markdown",
   "metadata": {},
   "source": [
    "### 3.1. タスクの一時停止と削除"
   ]
  },
  {
   "cell_type": "code",
   "execution_count": null,
   "metadata": {},
   "outputs": [],
   "source": [
    "alter task capstone26_db.prod.publish_kapa_adsb_data suspend;\n",
    "drop task capstone26_db.prod.publish_kapa_adsb_data;"
   ]
  },
  {
   "cell_type": "markdown",
   "metadata": {},
   "source": [
    "### 3.2. Snowpipeの一時停止"
   ]
  },
  {
   "cell_type": "code",
   "execution_count": null,
   "metadata": {},
   "outputs": [],
   "source": [
    "alter pipe capstone26_db.prod.dkp_pipe set pipe_execution_paused = true;"
   ]
  },
  {
   "cell_type": "markdown",
   "metadata": {},
   "source": [
    "### 3.3. 生データテーブルのクリーンアップ"
   ]
  },
  {
   "cell_type": "code",
   "execution_count": null,
   "metadata": {},
   "outputs": [],
   "source": [
    "select count(*)\n",
    "from capstone26_db.prod.kapa_stream_raw;"
   ]
  },
  {
   "cell_type": "code",
   "execution_count": null,
   "metadata": {},
   "outputs": [],
   "source": [
    "delete from capstone26_db.prod.kapa_stream_raw;"
   ]
  }
 ],
 "metadata": {
  "kernelspec": {
   "display_name": "Python 3",
   "language": "python",
   "name": "python3"
  },
  "language_info": {
   "codemirror_mode": {
    "name": "ipython",
    "version": 3
   },
   "file_extension": ".py",
   "mimetype": "text/x-python",
   "name": "python",
   "nbconvert_exporter": "python",
   "pygments_lexer": "ipython3",
   "version": "3.8.8"
  },
  "lastEditStatus": {
   "authorEmail": "hiroki.watari@snowflake.com",
   "authorId": "6440475291858",
   "authorName": "HWATARI",
   "lastEditTime": 1754358892234,
   "notebookId": "7mdq6xkvxtkyfgyodkn4",
   "sessionId": "8e795a72-3100-4291-9561-d7efd5d9bf74"
  }
 },
 "nbformat": 4,
 "nbformat_minor": 4
}
