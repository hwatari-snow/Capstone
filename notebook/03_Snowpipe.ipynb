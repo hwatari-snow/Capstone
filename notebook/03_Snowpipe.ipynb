{
 "cells": [
  {
   "cell_type": "markdown",
   "id": "2a4a12b5",
   "metadata": {},
   "source": [
    "# Setting of Snowpipe"
   ]
  },
  {
   "cell_type": "markdown",
   "id": "ba8a6069",
   "metadata": {},
   "source": [
    "## KAPAに対するSNowpipeの設定"
   ]
  },
  {
   "cell_type": "code",
   "execution_count": null,
   "id": "9ab4569b",
   "metadata": {},
   "outputs": [],
   "source": [
    "CREATE OR REPLACE PIPE kapa_raw_pipe\n",
    "  AUTO_INGEST = TRUE\n",
    "  AS\n",
    "  COPY INTO KAPA_RAW (\n",
    "    raw_data,\n",
    "    source_file_name,\n",
    "    source_file_row_number,\n",
    "    load_timestamp,\n",
    "    etl_batch_id\n",
    ")\n",
    "FROM (\n",
    "    SELECT \n",
    "        $1 as raw_data,                            -- 元のJSONデータ\n",
    "        METADATA$FILENAME as source_file_name,     -- ソースファイル名\n",
    "        METADATA$FILE_ROW_NUMBER as source_file_row_number, -- 行番号\n",
    "        CURRENT_TIMESTAMP() as load_timestamp,     -- ロード時刻\n",
    "        'KAPA_' || TO_VARCHAR(CURRENT_TIMESTAMP(), 'YYYYMMDD_HH24MISS') as etl_batch_id\n",
    "    FROM @CAPSTONE.PUBLIC.CAPSTONE_S3_STAGE/kapa-0001/\n",
    ")\n",
    "FILE_FORMAT = (\n",
    "    TYPE = 'JSON',\n",
    "    COMPRESSION = 'GZIP',\n",
    "    STRIP_OUTER_ARRAY = TRUE\n",
    ")\n",
    "ON_ERROR = CONTINUE; -- エラーがあっても処理を継続"
   ]
  },
  {
   "cell_type": "markdown",
   "id": "16d69fbb",
   "metadata": {},
   "source": [
    "## KFBIに対するSnowpipeの設定\n"
   ]
  },
  {
   "cell_type": "code",
   "execution_count": null,
   "id": "34c93ac7",
   "metadata": {},
   "outputs": [],
   "source": [
    "CREATE OR REPLACE PIPE kapa_raw_pipe\n",
    "  AUTO_INGEST = TRUE\n",
    "  AS\n",
    "    -- KBFI（旧ファームウェア）データのロード\n",
    "    COPY INTO KBFI_RAW (\n",
    "        raw_data,\n",
    "        source_file_name,\n",
    "        source_file_row_number,\n",
    "        load_timestamp,\n",
    "        etl_batch_id\n",
    "    )\n",
    "    FROM (\n",
    "        SELECT \n",
    "            $1 as raw_data,                               -- 元のJSONデータ\n",
    "            METADATA$FILENAME as source_file_name,        -- ソースファイル名\n",
    "            METADATA$FILE_ROW_NUMBER as source_file_row_number, -- 行番号\n",
    "            CURRENT_TIMESTAMP() as load_timestamp,        -- ロード時刻\n",
    "            'KBFI_' || TO_VARCHAR(CURRENT_TIMESTAMP(), 'YYYYMMDD_HH24MISS') as etl_batch_id\n",
    "        FROM @CAPSTONE.PUBLIC.CAPSTONE_S3_STAGE/kbfi-0001/            -- 実際のステージ名に変更\n",
    "    )\n",
    "    FILE_FORMAT = (\n",
    "        TYPE = 'JSON'\n",
    "        STRIP_OUTER_ARRAY = FALSE\n",
    "        COMPRESSION = AUTO\n",
    "    )\n",
    "    ON_ERROR = CONTINUE  "
   ]
  },
  {
   "cell_type": "markdown",
   "id": "d4cfa3d6",
   "metadata": {},
   "source": []
  }
 ],
 "metadata": {
  "language_info": {
   "name": "python"
  }
 },
 "nbformat": 4,
 "nbformat_minor": 5
}
