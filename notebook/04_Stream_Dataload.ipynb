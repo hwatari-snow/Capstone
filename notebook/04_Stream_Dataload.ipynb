{
 "metadata": {
  "language_info": {
   "name": "python"
  },
  "lastEditStatus": {
   "notebookId": "6tegtergay3zz7snzwgg",
   "authorId": "6440475291858",
   "authorName": "HWATARI",
   "authorEmail": "hiroki.watari@snowflake.com",
   "sessionId": "6e640609-a175-4b7f-9cc5-95af0a73c6d5",
   "lastEditTime": 1754550825413
  }
 },
 "nbformat_minor": 5,
 "nbformat": 4,
 "cells": [
  {
   "cell_type": "markdown",
   "id": "0fd6cfc6-9352-48d7-baaa-9aa18981f21e",
   "metadata": {
    "name": "cell1"
   },
   "source": [
    "# Setting of Snowpipe"
   ]
  },
  {
   "cell_type": "markdown",
   "id": "f5c93de5-fcca-4e83-9f17-47707f7277a0",
   "metadata": {
    "name": "cell2"
   },
   "source": [
    "## KAPAに対するSNowpipeの設定"
   ]
  },
  {
   "cell_type": "code",
   "execution_count": null,
   "id": "a45ef09e-10bc-4f04-be28-c13a49d7a131",
   "metadata": {
    "name": "cell3",
    "language": "sql"
   },
   "outputs": [],
   "source": "use role sysadmin;\n\nCREATE OR REPLACE PIPE kapa_raw_pipe\n  AUTO_INGEST = TRUE\n  AS\n  COPY INTO KAPA_RAW (\n    raw_data,\n    source_file_name,\n    source_file_row_number,\n    load_timestamp,\n    etl_batch_id\n)\nFROM (\n    SELECT \n        $1 as raw_data,                            -- 元のJSONデータ\n        METADATA$FILENAME as source_file_name,     -- ソースファイル名\n        METADATA$FILE_ROW_NUMBER as source_file_row_number, -- 行番号\n        CURRENT_TIMESTAMP() as load_timestamp,     -- ロード時刻\n        'KAPA_' || TO_VARCHAR(CURRENT_TIMESTAMP(), 'YYYYMMDD_HH24MISS') as etl_batch_id\n    FROM @CAPSTONE.PUBLIC.CAPSTONE_S3_STAGE/kapa-0001/\n)\nFILE_FORMAT = (\n    TYPE = 'JSON',\n    COMPRESSION = 'GZIP',\n    STRIP_OUTER_ARRAY = TRUE\n)\nON_ERROR = CONTINUE; -- エラーがあっても処理を継続\n"
  },
  {
   "cell_type": "markdown",
   "id": "19407c3b-cc8e-4e85-b18d-5b362750b9a4",
   "metadata": {
    "name": "cell8",
    "collapsed": false
   },
   "source": "### Snowflakeで通知チャネルARNを取得"
  },
  {
   "cell_type": "code",
   "id": "b3935259-c9ee-454d-8d2d-b879683435ab",
   "metadata": {
    "language": "sql",
    "name": "cell7"
   },
   "outputs": [],
   "source": "DESCRIBE PIPE kapa_raw_pipe;",
   "execution_count": null
  },
  {
   "cell_type": "code",
   "id": "b13315ed-3754-428b-94f3-6914ab5521ac",
   "metadata": {
    "language": "sql",
    "name": "cell11"
   },
   "outputs": [],
   "source": "-- 例: パイプの所有者が MY_CUSTOM_ROLE だった場合\nGRANT USAGE ON STAGE CAPSTONE.PUBLIC.CAPSTONE_S3_STAGE TO ROLE sysadmin;",
   "execution_count": null
  },
  {
   "cell_type": "code",
   "id": "8f13989d-53e7-4f8d-bb4e-4652f5b8b7c4",
   "metadata": {
    "language": "sql",
    "name": "cell10"
   },
   "outputs": [],
   "source": "-- INSERT OVERWRITE INTO KAPA_RAW \n-- SELECT * FROM KAPA_RAW AT (OFFSET => -60*15);",
   "execution_count": null
  },
  {
   "cell_type": "markdown",
   "id": "c04b58f7-3692-411e-8eaf-5e9d2112a6eb",
   "metadata": {
    "name": "cell9",
    "collapsed": false
   },
   "source": "### AWSでS3イベント通知を設定:\nAWSの管理コンソールで、対象のS3バケットの「プロパティ」タブにある「イベント通知」を設定します。\n\n- イベントタイプ: s3:ObjectCreated:All (すべてのオブジェクト作成イベント) を選択します。\n\n- 送信先: 「SQSキュー」を選択し、ステップ1でコピーしたARN（arn:aws:sqs:ap-northeast-1:392051336358:sf-snowpipe-AIDAVWSAUUSTELF5LPBXX-MuSWT-kb32x-404jKikLdg）を貼り付けます。"
  },
  {
   "cell_type": "markdown",
   "id": "f027abe6-2efc-4d99-8add-05e166cc6747",
   "metadata": {
    "name": "cell4",
    "collapsed": false
   },
   "source": [
    "## KFBIに対するSnowpipeの設定\n"
   ]
  },
  {
   "cell_type": "code",
   "execution_count": null,
   "id": "66121626-762b-47fc-8e17-bdd52541affb",
   "metadata": {
    "name": "cell5",
    "language": "sql"
   },
   "outputs": [],
   "source": "use role sysadmin;\n\nCREATE OR REPLACE PIPE kfbi_raw_pipe\n  AUTO_INGEST = TRUE\n  AS\n    -- KBFI（旧ファームウェア）データのロード\n    COPY INTO KBFI_RAW (\n        raw_data,\n        source_file_name,\n        source_file_row_number,\n        load_timestamp,\n        etl_batch_id\n    )\n    FROM (\n        SELECT \n            $1 as raw_data,                               -- 元のJSONデータ\n            METADATA$FILENAME as source_file_name,        -- ソースファイル名\n            METADATA$FILE_ROW_NUMBER as source_file_row_number, -- 行番号\n            CURRENT_TIMESTAMP() as load_timestamp,        -- ロード時刻\n            'KBFI_' || TO_VARCHAR(CURRENT_TIMESTAMP(), 'YYYYMMDD_HH24MISS') as etl_batch_id\n        FROM @CAPSTONE.PUBLIC.CAPSTONE_S3_STAGE/kbfi-0001/            -- 実際のステージ名に変更\n    )\n    FILE_FORMAT = (\n        TYPE = 'JSON'\n        STRIP_OUTER_ARRAY = FALSE\n        COMPRESSION = AUTO\n    )\n    ON_ERROR = CONTINUE  "
  },
  {
   "cell_type": "code",
   "id": "90a5b24c-5ec7-416c-a580-b19caf795d90",
   "metadata": {
    "language": "sql",
    "name": "cell12",
    "codeCollapsed": false
   },
   "outputs": [],
   "source": "DESCRIBE PIPE kfbi_raw_pipe;",
   "execution_count": null
  },
  {
   "cell_type": "code",
   "id": "6197d348-6110-4878-90c7-295545583651",
   "metadata": {
    "language": "sql",
    "name": "cell13",
    "codeCollapsed": false
   },
   "outputs": [],
   "source": "-- 例: パイプの所有者が sysadmin だった場合\nGRANT USAGE ON STAGE CAPSTONE.PUBLIC.CAPSTONE_S3_STAGE TO ROLE sysadmin;",
   "execution_count": null
  },
  {
   "cell_type": "markdown",
   "id": "8de2c7f3-f7f8-4642-8aa2-225d811208dd",
   "metadata": {
    "name": "cell6",
    "collapsed": false
   },
   "source": []
  }
 ]
}
