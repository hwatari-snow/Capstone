{
 "metadata": {
  "language_info": {
   "name": "python"
  },
  "lastEditStatus": {
   "notebookId": "lpbvjj7il5hemqbv57hv",
   "authorId": "6440475291858",
   "authorName": "HWATARI",
   "authorEmail": "hiroki.watari@snowflake.com",
   "sessionId": "587819af-2f60-4831-89bc-ddbb45a60e3c",
   "lastEditTime": 1754531045362
  }
 },
 "nbformat_minor": 5,
 "nbformat": 4,
 "cells": [
  {
   "cell_type": "markdown",
   "id": "ce110000-1111-2222-3333-ffffff000000",
   "metadata": {
    "name": "cell1"
   },
   "source": [
    "# データ取り込み - RAWテーブル作成（SQL版）\n",
    "## JSON形式でS3ステージからデータをロードし、追跡可能性のためにファイル名と行番号を保持\n",
    "\n",
    "このnotebookでは、以下の技術要件を満たします：\n",
    "- JSONデータをRAW形式で保存（変換なし）\n",
    "- ソースファイル名と行番号の追跡\n",
    "- 監査目的でのクエリ可能性\n",
    "\n",
    "**実行環境**: Snowflake SQLワークシート\n"
   ]
  },
  {
   "cell_type": "code",
   "id": "eb784b8d-c56e-4256-95f5-790d0d6d8a0a",
   "metadata": {
    "language": "sql",
    "name": "cell13"
   },
   "outputs": [],
   "source": "USE WAREHOUSE COMPUTE_WH;\nUSE DATABASE CAPSTONE; \nUSE SCHEMA PUBLIC;\nUSE ROLE SYSADMIN;\n\n\nSELECT \n    CURRENT_WAREHOUSE() as warehouse,\n    CURRENT_DATABASE() as database,\n    CURRENT_SCHEMA() as schema;",
   "execution_count": null
  },
  {
   "cell_type": "code",
   "execution_count": null,
   "id": "3622c2a4-c07f-4062-a541-fd51c5099b78",
   "metadata": {
    "name": "cell3",
    "language": "sql",
    "codeCollapsed": false
   },
   "outputs": [],
   "source": [
    "-- Create KAPA Raw Table (New Firmware Version)\n",
    "CREATE OR REPLACE TABLE KAPA_RAW (\n",
    "    raw_data VARIANT,\n",
    "    source_file_name STRING,\n",
    "    source_file_row_number NUMBER,\n",
    "    load_timestamp TIMESTAMP_LTZ,\n",
    "    etl_batch_id STRING\n",
    ")\n",
    "COMMENT = 'KAPA Firmware Raw ADS-B Data stored in JSON format';\n"
   ]
  },
  {
   "cell_type": "code",
   "execution_count": null,
   "id": "59e950c5-5b4a-435f-89fb-9dfe6a07717d",
   "metadata": {
    "name": "cell4",
    "language": "sql",
    "codeCollapsed": false
   },
   "outputs": [],
   "source": [
    "-- Create KBFI Raw Table (Old Firmware Version)\n",
    "CREATE OR REPLACE TABLE KBFI_RAW (\n",
    "    raw_data VARIANT,\n",
    "    source_file_name STRING,\n",
    "    source_file_row_number NUMBER,\n",
    "    load_timestamp TIMESTAMP_LTZ,\n",
    "    etl_batch_id STRING\n",
    ")\n",
    "COMMENT = 'KBFI Firmware Raw ADS-B Data stored in JSON format';\n"
   ]
  },
  {
   "cell_type": "markdown",
   "id": "0975c30e-69ee-47b7-9691-005c1ec07fae",
   "metadata": {
    "name": "cell2",
    "collapsed": false
   },
   "source": "## COPY INTO命令でKAPAデータをロード\n\n以下のSQLを実行してKAPAデータをロードします："
  },
  {
   "cell_type": "code",
   "execution_count": null,
   "id": "f1dd5d79-893e-4922-b097-d99de9776be1",
   "metadata": {
    "name": "cell5",
    "language": "sql",
    "codeCollapsed": false
   },
   "outputs": [],
   "source": "\nUSE WAREHOUSE COMPUTE_WH;\n-- KAPA（新ファームウェア）データのロード\n-- バッチIDは実行時の日時に基づいて設定してください\nCOPY INTO KAPA_RAW (\n    raw_data,\n    source_file_name,\n    source_file_row_number,\n    load_timestamp,\n    etl_batch_id\n)\nFROM (\n    SELECT \n        $1 as raw_data,                               -- 元のJSONデータ\n        METADATA$FILENAME as source_file_name,        -- ソースファイル名\n        METADATA$FILE_ROW_NUMBER as source_file_row_number, -- 行番号\n        CURRENT_TIMESTAMP() as load_timestamp,        -- ロード時刻\n        'KAPA_' || TO_VARCHAR(CURRENT_TIMESTAMP(), 'YYYYMMDD_HH24MISS') as etl_batch_id\n    FROM @CAPSTONE.PUBLIC.CAPSTONE_S3_STAGE/kapa-0001/\n)\nFILE_FORMAT = (\n    TYPE = 'JSON',\n    COMPRESSION = 'GZIP',\n    STRIP_OUTER_ARRAY = TRUE\n)\nON_ERROR = CONTINUE                                  -- エラーがあっても処理を継続\nRETURN_FAILED_ONLY = FALSE;                          -- 成功・失敗両方の結果を表示\n\n"
  },
  {
   "cell_type": "code",
   "id": "b15de17a-6814-4668-849a-1edbb14a470c",
   "metadata": {
    "language": "sql",
    "name": "cell15"
   },
   "outputs": [],
   "source": "\nUSE WAREHOUSE COMPUTE_WH_XL;\n-- KAPA（新ファームウェア）データのロード\n-- バッチIDは実行時の日時に基づいて設定してください\nTRUNCATE TABLE KAPA_RAW;\nCOPY INTO KAPA_RAW (\n    raw_data,\n    source_file_name,\n    source_file_row_number,\n    load_timestamp,\n    etl_batch_id\n)\nFROM (\n    SELECT \n        $1 as raw_data,                               -- 元のJSONデータ\n        METADATA$FILENAME as source_file_name,        -- ソースファイル名\n        METADATA$FILE_ROW_NUMBER as source_file_row_number, -- 行番号\n        CURRENT_TIMESTAMP() as load_timestamp,        -- ロード時刻\n        'KAPA_' || TO_VARCHAR(CURRENT_TIMESTAMP(), 'YYYYMMDD_HH24MISS') as etl_batch_id\n    FROM @CAPSTONE.PUBLIC.CAPSTONE_S3_STAGE/kapa-0001/\n)\nFILE_FORMAT = (\n    TYPE = 'JSON',\n    COMPRESSION = 'GZIP',\n    STRIP_OUTER_ARRAY = TRUE\n)\nON_ERROR = CONTINUE                                  -- エラーがあっても処理を継続\nRETURN_FAILED_ONLY = FALSE;                          -- 成功・失敗両方の結果を表示",
   "execution_count": null
  },
  {
   "cell_type": "markdown",
   "id": "06e700da-69e5-4659-b0fc-5ed3836354ca",
   "metadata": {
    "name": "cell14",
    "collapsed": false
   },
   "source": "## COPY INTO命令でKBFIデータをロード\n\n以下のSQLを実行してKBFIデータをロードします："
  },
  {
   "cell_type": "code",
   "execution_count": null,
   "id": "3c63e273-892e-47d4-8864-ec3dbe518cdd",
   "metadata": {
    "name": "cell6",
    "language": "sql",
    "codeCollapsed": false
   },
   "outputs": [],
   "source": "USE WAREHOUSE COMPUTE_WH_XL;\n-- KBFI（旧ファームウェア）データのロード\nCOPY INTO KBFI_RAW (\n    raw_data,\n    source_file_name,\n    source_file_row_number,\n    load_timestamp,\n    etl_batch_id\n)\nFROM (\n    SELECT \n        $1 as raw_data,                               -- 元のJSONデータ\n        METADATA$FILENAME as source_file_name,        -- ソースファイル名\n        METADATA$FILE_ROW_NUMBER as source_file_row_number, -- 行番号\n        CURRENT_TIMESTAMP() as load_timestamp,        -- ロード時刻\n        'KBFI_' || TO_VARCHAR(CURRENT_TIMESTAMP(), 'YYYYMMDD_HH24MISS') as etl_batch_id\n    FROM @CAPSTONE.PUBLIC.CAPSTONE_S3_STAGE/kbfi-0001/            -- 実際のステージ名に変更\n)\nFILE_FORMAT = (\n    TYPE = 'JSON'\n    STRIP_OUTER_ARRAY = FALSE\n    COMPRESSION = AUTO\n)\nON_ERROR = CONTINUE                                  -- エラーがあっても処理を継続\nRETURN_FAILED_ONLY = FALSE;                          -- 成功・失敗両方の結果を表示\n"
  },
  {
   "cell_type": "markdown",
   "id": "9bd37fec-edab-4ff3-b49a-43b5dbbd6a3c",
   "metadata": {
    "name": "cell16",
    "collapsed": false
   },
   "source": "## データロード結果の確認\n\n### KAPA_RAWテーブルの統計確認"
  },
  {
   "cell_type": "code",
   "id": "8f205aeb-2cb1-4f2b-b05d-f98a3982c393",
   "metadata": {
    "language": "sql",
    "name": "cell17"
   },
   "outputs": [],
   "source": "-- KAPA_RAWテーブルの基本統計\nSELECT \n    COUNT(*) as total_records,\n    COUNT(DISTINCT source_file_name) as unique_files,\n    COUNT(DISTINCT etl_batch_id) as unique_batches,\n    MIN(load_timestamp) as first_load,\n    MAX(load_timestamp) as last_load\nFROM KAPA_RAW;",
   "execution_count": null
  },
  {
   "cell_type": "markdown",
   "id": "b290d04b-3de9-4273-91ba-1b7dfc5fbad3",
   "metadata": {
    "name": "cell18"
   },
   "source": "### KBFI_RAWテーブルの統計確認"
  },
  {
   "cell_type": "code",
   "execution_count": null,
   "id": "698ba111-0606-4048-8f3d-ef6bc96c59f1",
   "metadata": {
    "name": "cell7",
    "language": "sql",
    "codeCollapsed": false
   },
   "outputs": [],
   "source": "\n-- KBFI_RAWテーブルの基本統計\nSELECT \n    COUNT(*) as total_records,\n    COUNT(DISTINCT source_file_name) as unique_files,\n    COUNT(DISTINCT etl_batch_id) as unique_batches,\n    MIN(load_timestamp) as first_load,\n    MAX(load_timestamp) as last_load\nFROM KBFI_RAW;\n"
  },
  {
   "cell_type": "markdown",
   "id": "2055ade7-e272-49d0-9de7-514f4de3beda",
   "metadata": {
    "name": "cell19",
    "collapsed": false
   },
   "source": "## 追跡可能性とファイル監査のためのクエリ例\n\n### ファイル別レコード数監査クエリ"
  },
  {
   "cell_type": "code",
   "id": "d28c3cc9-3953-45a5-b8e5-0b57668dcab7",
   "metadata": {
    "language": "sql",
    "name": "cell20"
   },
   "outputs": [],
   "source": "-- ファイル別のレコード数と行番号範囲を確認\nSELECT \n    source_file_name,\n    COUNT(*) as record_count,\n    MIN(source_file_row_number) as min_row,\n    MAX(source_file_row_number) as max_row,\n    etl_batch_id,\n    load_timestamp\nFROM KAPA_RAW \nGROUP BY source_file_name, etl_batch_id, load_timestamp\nORDER BY load_timestamp DESC, source_file_name;",
   "execution_count": null
  },
  {
   "cell_type": "markdown",
   "id": "196a5748-8076-4e0e-a676-dce7c25a5dd9",
   "metadata": {
    "name": "cell21",
    "collapsed": false
   },
   "source": "### 特定行追跡クエリ例"
  },
  {
   "cell_type": "code",
   "id": "df068ea5-edd7-4836-a30e-3c720c56c3bf",
   "metadata": {
    "language": "sql",
    "name": "cell22"
   },
   "outputs": [],
   "source": "-- 特定のファイルの特定の行を追跡する例\nSELECT \n    source_file_name,\n    source_file_row_number,\n    raw_data,\n    load_timestamp,\n    etl_batch_id\nFROM KAPA_RAW \nWHERE source_file_name = 'example_file.json'\n  AND source_file_row_number BETWEEN 100 AND 110\nORDER BY source_file_row_number;",
   "execution_count": null
  },
  {
   "cell_type": "markdown",
   "id": "6dbf74d0-530f-4b42-a3d9-08190cc298c1",
   "metadata": {
    "name": "cell24",
    "collapsed": false
   },
   "source": "### データ品質チェッククエリ"
  },
  {
   "cell_type": "code",
   "id": "7fee951c-3ad7-4dd6-812b-b65ed53264ec",
   "metadata": {
    "language": "sql",
    "name": "cell23"
   },
   "outputs": [],
   "source": "-- データ品質チェック：ファイル内で行番号が連続しているかチェック\nWITH row_gaps AS (\n    SELECT \n        source_file_name,\n        source_file_row_number,\n        LAG(source_file_row_number) OVER (\n            PARTITION BY source_file_name \n            ORDER BY source_file_row_number\n        ) as prev_row_number,\n        source_file_row_number - LAG(source_file_row_number) OVER (\n            PARTITION BY source_file_name \n            ORDER BY source_file_row_number\n        ) as row_gap\n    FROM KAPA_RAW\n)\nSELECT \n    source_file_name,\n    COUNT(*) as gap_count,\n    MIN(row_gap) as min_gap,\n    MAX(row_gap) as max_gap\nFROM row_gaps\nWHERE row_gap > 1  -- 1より大きいギャップを検出\nGROUP BY source_file_name\nORDER BY gap_count DESC;",
   "execution_count": null
  },
  {
   "cell_type": "markdown",
   "id": "41124109-bf8f-45f4-ac29-fced28ecbc32",
   "metadata": {
    "name": "cell9"
   },
   "source": [
    "## SQL版のnotebookを作成しました\n",
    "\n",
    "**重要**: Snowflake SQLワークシート用のnotebook `02_data_ingection_sql.ipynb` を新たに作成いたしました。\n",
    "\n",
    "こちらのnotebookには以下が含まれています：\n",
    "\n",
    "### 完了した作業\n",
    "✅ **追跡可能性を持つRAWテーブルの作成**\n",
    "- KAPA_RAWテーブル（新しいファームウェア）\n",
    "- KBFI_RAW テーブル（古いファームウェア）  \n",
    "- ファイル名と行番号を含む監査可能な設計\n",
    "\n",
    "✅ **COPY INTOコマンドの実装**\n",
    "- JSONデータの元形式での保存\n",
    "- METADATA$FILENAME と METADATA$FILE_ROW_NUMBER を使用した追跡\n",
    "- バッチIDによる処理の追跡\n",
    "\n",
    "✅ **監査とトレーサビリティのクエリ**\n",
    "- ファイル別レコード数の監査\n",
    "- 特定行の追跡クエリ\n",
    "- データ品質チェック\n",
    "\n",
    "### 使用方法\n",
    "1. `02_data_ingection_sql.ipynb` を開く\n",
    "2. 実際のウェアハウス、データベース、スキーマ名を設定\n",
    "3. S3ステージ名を実際の値に更新\n",
    "4. 各セルのSQLを順次実行\n",
    "\n",
    "### 技術要件の達成\n",
    "- ✅ **要件2**: データはJSON形式で変換せずに保存\n",
    "- ✅ **要件3**: ファイル名と行番号の追跡により完全な監査可能性を実現\n"
   ]
  },
  {
   "cell_type": "markdown",
   "id": "ce110000-1111-2222-3333-ffffff000001",
   "metadata": {
    "name": "cell11"
   },
   "source": [
    "## まとめと次のステップ\n",
    "\n",
    "### 完了した作業\n",
    "✅ **追跡可能性を持つRAWテーブルの作成**\n",
    "- KAPA_RAWテーブル（新しいファームウェア）\n",
    "- KBFI_RAW テーブル（古いファームウェア）\n",
    "- ファイル名と行番号を含む監査可能な設計\n",
    "\n",
    "✅ **COPY INTOコマンドの実装**\n",
    "- JSONデータの元形式での保存\n",
    "- METADATA$FILENAME と METADATA$FILE_ROW_NUMBER を使用した追跡\n",
    "- バッチIDによる処理の追跡\n",
    "\n",
    "✅ **監査とトレーサビリティのクエリ**\n",
    "- ファイル別レコード数の監査\n",
    "- 特定行の追跡クエリ\n",
    "- データ品質チェック\n",
    "\n",
    "### 技術要件の達成状況\n",
    "- ✅ **要件2**: データはJSON形式で変換せずに保存\n",
    "- ✅ **要件3**: ファイル名と行番号の追跡により完全な監査可能性を実現\n",
    "\n",
    "### 次のステップ\n",
    "1. S3ステージ名を実際の値に更新\n",
    "2. COPY INTOコマンドの実行\n",
    "3. データロードの確認と検証\n",
    "4. 下流テーブルへの変換パイプラインの構築\n"
   ]
  },
  {
   "cell_type": "code",
   "execution_count": null,
   "id": "1b65c4ab-c0f0-471b-b1d0-533e2764b818",
   "metadata": {
    "name": "cell12",
    "language": "python"
   },
   "outputs": [],
   "source": []
  }
 ]
}